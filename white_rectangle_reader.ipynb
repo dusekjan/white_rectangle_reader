{
 "cells": [
  {
   "cell_type": "code",
   "execution_count": 26,
   "outputs": [],
   "source": [
    "import os\n",
    "from PIL import Image\n",
    "\n",
    "from lib.cutter import find_biggest_white\n",
    "from lib.cleaner import clean_noise"
   ],
   "metadata": {
    "collapsed": false,
    "ExecuteTime": {
     "end_time": "2023-12-25T21:24:58.102228500Z",
     "start_time": "2023-12-25T21:24:58.082564400Z"
    }
   },
   "id": "6b2f4c20b1e060be"
  },
  {
   "cell_type": "code",
   "execution_count": 27,
   "outputs": [],
   "source": [
    "PICTURE_FOLDER = \"./pictures/\"          # slozka s obrazky\n",
    "RESULT_FILE_NAME = \"result\"\n",
    "RESULT_PATH = f\"./vysledek/{RESULT_FILE_NAME}.png\"\n",
    "RESULT_PATH_MULTI = f\"./vysledek/{RESULT_FILE_NAME}%s.png\""
   ],
   "metadata": {
    "collapsed": false,
    "ExecuteTime": {
     "end_time": "2023-12-25T21:24:59.318694800Z",
     "start_time": "2023-12-25T21:24:59.312623600Z"
    }
   },
   "id": "b64bfeb3e76a8cb6"
  },
  {
   "cell_type": "code",
   "execution_count": 35,
   "outputs": [
    {
     "name": "stdout",
     "output_type": "stream",
     "text": [
      "Otevírám soubor './pictures/a_noty (1).png'\n",
      "  - ořezáno x:0 y:593 w:1920 h:487\n",
      "Otevírám soubor './pictures/a_noty (2).png'\n",
      "  - ořezáno x:0 y:593 w:1920 h:487\n",
      "Otevírám soubor './pictures/a_noty (3).png'\n",
      "  - ořezáno x:0 y:593 w:1920 h:487\n",
      "Otevírám soubor './pictures/a_noty (4).png'\n",
      "  - ořezáno x:0 y:593 w:1920 h:487\n",
      "Otevírám soubor './pictures/a_noty (5).png'\n",
      "  - ořezáno x:0 y:593 w:1920 h:487\n",
      "Otevírám soubor './pictures/a_noty (6).png'\n",
      "  - ořezáno x:0 y:593 w:1920 h:487\n",
      "Otevírám soubor './pictures/a_noty (7).png'\n",
      "  - ořezáno x:0 y:593 w:1920 h:487\n",
      "Otevírám soubor './pictures/a_noty (8).png'\n",
      "  - ořezáno x:0 y:593 w:1920 h:487\n",
      "Otevírám soubor './pictures/a_noty (9).png'\n",
      "  - ořezáno x:0 y:593 w:1920 h:487\n",
      "Otevírám soubor './pictures/b_noty (1).png'\n",
      "  - ořezáno x:0 y:593 w:1920 h:487\n",
      "Otevírám soubor './pictures/b_noty (2).png'\n",
      "  - ořezáno x:0 y:0 w:1916 h:508\n",
      "Otevírám soubor './pictures/b_noty (3).png'\n",
      "  - ořezáno x:0 y:593 w:1920 h:487\n",
      "Otevírám soubor './pictures/b_noty (4).png'\n",
      "  - ořezáno x:0 y:593 w:1920 h:487\n",
      "Otevírám soubor './pictures/b_noty (5).png'\n",
      "  - ořezáno x:0 y:593 w:1920 h:487\n",
      "Otevírám soubor './pictures/b_noty (6).png'\n",
      "  - ořezáno x:0 y:593 w:1920 h:487\n",
      "Otevírám soubor './pictures/b_noty (7).png'\n",
      "  - ořezáno x:0 y:593 w:1920 h:487\n",
      "Otevírám soubor './pictures/b_noty (8).png'\n",
      "  - ořezáno x:0 y:593 w:1920 h:487\n",
      "Otevírám soubor './pictures/b_noty (9).png'\n",
      "  - ořezáno x:0 y:593 w:1920 h:487\n",
      "Otevírám soubor './pictures/c_noty (1).png'\n",
      "  - ořezáno x:0 y:593 w:1920 h:487\n",
      "Otevírám soubor './pictures/c_noty (2).png'\n",
      "  - ořezáno x:0 y:593 w:1920 h:487\n",
      "Otevírám soubor './pictures/c_noty (3).png'\n",
      "  - ořezáno x:0 y:593 w:1920 h:487\n",
      "Otevírám soubor './pictures/c_noty (4).png'\n",
      "  - ořezáno x:0 y:593 w:1920 h:487\n",
      "Otevírám soubor './pictures/c_noty (5).png'\n",
      "  - ořezáno x:0 y:593 w:1920 h:487\n",
      "  - uloženo ./vysledek/result6.png\n",
      "  - uloženo ./vysledek/result12.png\n",
      "  - uloženo ./vysledek/result18.png\n",
      "  - uloženo ./vysledek/result23.png\n"
     ]
    }
   ],
   "source": [
    "folder_with_pictures = PICTURE_FOLDER\n",
    "pictures: list[Image] = []\n",
    "dimensions: list[tuple[int, int]] = []\n",
    "\n",
    "for file in os.listdir(folder_with_pictures):\n",
    "    if file.lower().endswith((\".png\", \".jpg\", \".jpeg\")):\n",
    "        file_path = os.path.join(folder_with_pictures, file)\n",
    "        print(f\"Otevírám soubor '{file_path}'\")\n",
    "        try:\n",
    "            picture = find_biggest_white(file_path)\n",
    "            aspect_ratio = picture.width / picture.height\n",
    "            target_height = int(1920 / aspect_ratio)\n",
    "            # Přeskalování obrázku\n",
    "            resized_img = picture.resize((1920, target_height))\n",
    "            \n",
    "            # picture = clean_noise(picture)\n",
    "            dimensions.append(resized_img.size)\n",
    "        except Exception as e:\n",
    "            print(\"Vyskytla se chyba: \", e)\n",
    "            raise e\n",
    "        \n",
    "        pictures.append(resized_img)\n",
    "\n",
    "\n",
    "limit = 2950\n",
    "pictures_per_photo = [0] \n",
    "\n",
    "height = 0\n",
    "for i in range(len(pictures)):\n",
    "    height += pictures[i].height\n",
    "    if height > limit:\n",
    "        pictures_per_photo.append(i)\n",
    "        height = pictures[i].height\n",
    "\n",
    "if len(pictures_per_photo) == 1:\n",
    "    # Vytvoření prázdného obrázku\n",
    "    heights = [picture.height for picture in pictures]\n",
    "    result_picture = Image.new(\"RGB\", (1920, sum(heights)))\n",
    "    \n",
    "    # Kopírování každého obrázku pod sebe\n",
    "    height_breakpoint = 0\n",
    "    for i, picture in enumerate(pictures):\n",
    "        result_picture.paste(picture, (0, height_breakpoint))\n",
    "        height_breakpoint += heights[i]\n",
    "    \n",
    "    # Uložení výsledného obrázku\n",
    "    result_picture.save(RESULT_PATH)\n",
    "    print(f\"  - uloženo {RESULT_PATH}\")\n",
    "\n",
    "else:    \n",
    "    for current, next_breakpoint in zip(pictures_per_photo, pictures_per_photo[1:]):\n",
    "        current_pictures = pictures[current:next_breakpoint]\n",
    "    \n",
    "        heights = [picture.height for picture in current_pictures]\n",
    "        result_picture = Image.new(\"RGB\", (1920, sum(heights)))\n",
    "        \n",
    "        # Kopírování každého obrázku pod sebe\n",
    "        height_breakpoint = 0\n",
    "        for i, picture in enumerate(current_pictures):\n",
    "            result_picture.paste(picture, (0, height_breakpoint))\n",
    "            height_breakpoint += heights[i]\n",
    "        \n",
    "        # Uložení výsledného obrázku\n",
    "        result_picture.save(RESULT_PATH_MULTI % next_breakpoint)\n",
    "        print(f\"  - uloženo {RESULT_PATH_MULTI % next_breakpoint}\")\n",
    "    \n",
    "    # od posledniho indexu do konce    \n",
    "    current_pictures = pictures[pictures_per_photo[-1]:]\n",
    "    heights = [picture.height for picture in current_pictures]\n",
    "    result_picture = Image.new(\"RGB\", (1920, sum(heights)))\n",
    "    \n",
    "    # Kopírování každého obrázku pod sebe\n",
    "    height_breakpoint = 0\n",
    "    for i, picture in enumerate(current_pictures):\n",
    "        result_picture.paste(picture, (0, height_breakpoint))\n",
    "        height_breakpoint += heights[i]\n",
    "    \n",
    "    # Uložení výsledného obrázku\n",
    "    result_picture.save(RESULT_PATH_MULTI % len(pictures))\n",
    "    print(f\"  - uloženo {RESULT_PATH_MULTI % len(pictures)}\")"
   ],
   "metadata": {
    "collapsed": false,
    "ExecuteTime": {
     "end_time": "2023-12-25T21:35:26.984873Z",
     "start_time": "2023-12-25T21:35:24.830114400Z"
    }
   },
   "id": "ee75fa71afbcf0dc"
  },
  {
   "cell_type": "code",
   "execution_count": null,
   "outputs": [],
   "source": [],
   "metadata": {
    "collapsed": false
   },
   "id": "bc98e2f524d8c320"
  }
 ],
 "metadata": {
  "kernelspec": {
   "display_name": "Python 3",
   "language": "python",
   "name": "python3"
  },
  "language_info": {
   "codemirror_mode": {
    "name": "ipython",
    "version": 2
   },
   "file_extension": ".py",
   "mimetype": "text/x-python",
   "name": "python",
   "nbconvert_exporter": "python",
   "pygments_lexer": "ipython2",
   "version": "2.7.6"
  }
 },
 "nbformat": 4,
 "nbformat_minor": 5
}
